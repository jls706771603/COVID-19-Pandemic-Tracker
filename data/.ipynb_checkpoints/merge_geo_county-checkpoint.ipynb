{
 "cells": [
  {
   "cell_type": "code",
   "execution_count": 1,
   "id": "northern-brazil",
   "metadata": {},
   "outputs": [],
   "source": [
    "# Python program to read\n",
    "# json file\n",
    " \n",
    "import json\n",
    "import pandas as pd\n",
    "# Opening JSON file\n",
    "#f = open('gz_2010_us_050_00_500k.json')\n",
    " \n",
    "# returns JSON object as\n",
    "# a dictionary\n",
    "#data = json.load(f)\n",
    "\n",
    "#df1 = pd.read_json('pandemic-tracker-1b4e2-default-rtdb-countyList-export.json')\n",
    "\n",
    "\n",
    "#df2 = pd.read_json('us-county-boundaries.json')\n",
    "\n",
    "    # validate-utf8 gz_2010_us_050_00_20m.json\n",
    "df3 = pd.read_json('gz_2010_us_050_00_20m.json', encoding = \"ISO-8859-1\")\n"
   ]
  },
  {
   "cell_type": "raw",
   "id": "handed-daniel",
   "metadata": {},
   "source": [
    "fn = 'gz_2010_us_050_00_20m.json'\n",
    "fh = open(fn,'rb')\n",
    "s = fh.read().decode('ISO-8859-1')\n",
    "fn = 'counties.json'\n",
    "fh = open(fn,'w')\n",
    "fh.write(s)\n",
    "fh.close()\n",
    "df3 = pd.read_json('gz_2010_us_050_00_20m.json', encoding = \"ISO-8859-1\")\n",
    "\n",
    "\n",
    "\n",
    "# Iterating through the json\n",
    "# list\n",
    "#for i in data['name']:\n",
    "#    print(i)\n",
    "# Closing file\n",
    "#f.close()\n",
    "#type(data)"
   ]
  },
  {
   "cell_type": "code",
   "execution_count": 2,
   "id": "dominican-yeast",
   "metadata": {},
   "outputs": [
    {
     "ename": "NameError",
     "evalue": "name 'df1' is not defined",
     "output_type": "error",
     "traceback": [
      "\u001b[1;31m---------------------------------------------------------------------------\u001b[0m",
      "\u001b[1;31mNameError\u001b[0m                                 Traceback (most recent call last)",
      "\u001b[1;32m<ipython-input-2-eda2b5cc1a42>\u001b[0m in \u001b[0;36m<module>\u001b[1;34m\u001b[0m\n\u001b[1;32m----> 1\u001b[1;33m \u001b[0mdf1\u001b[0m\u001b[1;33m.\u001b[0m\u001b[0mhead\u001b[0m\u001b[1;33m(\u001b[0m\u001b[1;33m)\u001b[0m\u001b[1;33m\u001b[0m\u001b[1;33m\u001b[0m\u001b[0m\n\u001b[0m",
      "\u001b[1;31mNameError\u001b[0m: name 'df1' is not defined"
     ]
    }
   ],
   "source": [
    "#df1.head()"
   ]
  },
  {
   "cell_type": "code",
   "execution_count": null,
   "id": "apparent-auditor",
   "metadata": {},
   "outputs": [],
   "source": [
    "#df2.head()"
   ]
  },
  {
   "cell_type": "code",
   "execution_count": 3,
   "id": "agreed-characterization",
   "metadata": {},
   "outputs": [
    {
     "data": {
      "text/html": [
       "<div>\n",
       "<style scoped>\n",
       "    .dataframe tbody tr th:only-of-type {\n",
       "        vertical-align: middle;\n",
       "    }\n",
       "\n",
       "    .dataframe tbody tr th {\n",
       "        vertical-align: top;\n",
       "    }\n",
       "\n",
       "    .dataframe thead th {\n",
       "        text-align: right;\n",
       "    }\n",
       "</style>\n",
       "<table border=\"1\" class=\"dataframe\">\n",
       "  <thead>\n",
       "    <tr style=\"text-align: right;\">\n",
       "      <th></th>\n",
       "      <th>properties</th>\n",
       "      <th>geometry</th>\n",
       "    </tr>\n",
       "  </thead>\n",
       "  <tbody>\n",
       "    <tr>\n",
       "      <th>0</th>\n",
       "      <td>{'GEO_ID': '0500000US01001', 'STATE': '01', 'C...</td>\n",
       "      <td>{'type': 'Polygon', 'coordinates': [[[-86.4967...</td>\n",
       "    </tr>\n",
       "    <tr>\n",
       "      <th>1</th>\n",
       "      <td>{'GEO_ID': '0500000US01009', 'STATE': '01', 'C...</td>\n",
       "      <td>{'type': 'Polygon', 'coordinates': [[[-86.5777...</td>\n",
       "    </tr>\n",
       "    <tr>\n",
       "      <th>2</th>\n",
       "      <td>{'GEO_ID': '0500000US01017', 'STATE': '01', 'C...</td>\n",
       "      <td>{'type': 'Polygon', 'coordinates': [[[-85.1841...</td>\n",
       "    </tr>\n",
       "    <tr>\n",
       "      <th>3</th>\n",
       "      <td>{'GEO_ID': '0500000US01021', 'STATE': '01', 'C...</td>\n",
       "      <td>{'type': 'Polygon', 'coordinates': [[[-86.5173...</td>\n",
       "    </tr>\n",
       "    <tr>\n",
       "      <th>4</th>\n",
       "      <td>{'GEO_ID': '0500000US01033', 'STATE': '01', 'C...</td>\n",
       "      <td>{'type': 'Polygon', 'coordinates': [[[-88.1399...</td>\n",
       "    </tr>\n",
       "  </tbody>\n",
       "</table>\n",
       "</div>"
      ],
      "text/plain": [
       "                                          properties  \\\n",
       "0  {'GEO_ID': '0500000US01001', 'STATE': '01', 'C...   \n",
       "1  {'GEO_ID': '0500000US01009', 'STATE': '01', 'C...   \n",
       "2  {'GEO_ID': '0500000US01017', 'STATE': '01', 'C...   \n",
       "3  {'GEO_ID': '0500000US01021', 'STATE': '01', 'C...   \n",
       "4  {'GEO_ID': '0500000US01033', 'STATE': '01', 'C...   \n",
       "\n",
       "                                            geometry  \n",
       "0  {'type': 'Polygon', 'coordinates': [[[-86.4967...  \n",
       "1  {'type': 'Polygon', 'coordinates': [[[-86.5777...  \n",
       "2  {'type': 'Polygon', 'coordinates': [[[-85.1841...  \n",
       "3  {'type': 'Polygon', 'coordinates': [[[-86.5173...  \n",
       "4  {'type': 'Polygon', 'coordinates': [[[-88.1399...  "
      ]
     },
     "execution_count": 3,
     "metadata": {},
     "output_type": "execute_result"
    }
   ],
   "source": [
    "# https://telliott99.blogspot.com/2020/06/geojson.html\n",
    "df3.head()"
   ]
  },
  {
   "cell_type": "code",
   "execution_count": null,
   "id": "perfect-daughter",
   "metadata": {},
   "outputs": [],
   "source": []
  }
 ],
 "metadata": {
  "kernelspec": {
   "display_name": "Python 3",
   "language": "python",
   "name": "python3"
  },
  "language_info": {
   "codemirror_mode": {
    "name": "ipython",
    "version": 3
   },
   "file_extension": ".py",
   "mimetype": "text/x-python",
   "name": "python",
   "nbconvert_exporter": "python",
   "pygments_lexer": "ipython3",
   "version": "3.8.7"
  }
 },
 "nbformat": 4,
 "nbformat_minor": 5
}
